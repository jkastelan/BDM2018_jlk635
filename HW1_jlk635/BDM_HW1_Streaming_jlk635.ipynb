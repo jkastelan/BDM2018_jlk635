{
 "cells": [
  {
   "cell_type": "markdown",
   "metadata": {},
   "source": [
    "# Homework 1 - Streaming (10 pts)\n",
    "\n",
    "### DUE: 06/26/2018 before class at 2:00pm\n",
    "\n",
    "This homework is for practicing Python’s *generators* and the design of *streaming* algorithms in general. We’re going to use the **taxi_events.csv** and **taxi_trips.csv** data sets. Both of them are available on NYU Classes under *Data Sets* section. You are required to turn in this notebook with all the parts filled in place of <###>. Your notebook must be named BDM\\_HW1\\_Streaming_NetID.ipynb."
   ]
  },
  {
   "cell_type": "markdown",
   "metadata": {},
   "source": [
    "## Task 1 (5 points)\n",
    "\n",
    "Your task is to **compute the maximum number of active taxi cabs** that were hired at any point in time. This the same as computing the maximum number of taxi cabs that have passengers. The input data set is **taxi_events.csv**, which logged all pick-up and drop-off events for all taxi trips. The description of the fields in this file is as follows:\n",
    "\n",
    "|Column name|Description|\n",
    "|--|--|\n",
    "|time |The timestamp of the event. All events are sorted increasingly by their timestamps. |\n",
    "|vehicle_id |The unique ID of the taxi vehicle involved in this event. |\n",
    "|event |A string of either *\"pickup\"* or *\"dropoff\"* for describing the drop-off or pick-up event, respectively. |\n",
    "\n",
    "For example, let's assume that on *Feb-01-2015*, there was a taxi that picked up a passenger at midnight and dropped her off at 14 minutes past midnight. If the taxi cab has the Vehicle ID of *V102*, then you should see two events being logged in this data set as:\n",
    "\n",
    "<pre>\n",
    "...\n",
    "2015-02-01 00:00:00+00,V102,pickup\n",
    "...\n",
    "2015-02-01 00:14:00+00,V102,dropoff\n",
    "...\n",
    "</pre>\n",
    "\n",
    "You are given the above data set in a streaming fashion (reading in row by row), and must design a streaming algorithm that uses the least possible additional memory to compute the maximum number of hired taxi cabs at any point in time. Again, this is equivalent to having a virtual dispatcher, who repeatedly ask every second *\"how many taxis are being hired (having passengers) at the moment?\"*, and then log the maximum number during the entire period.\n",
    "\n",
    "Please modify the code snippet below to complete this task. Your code should only output a single number, which is the maximum number of hired taxi cabs. Of course, you can add additional initialization codes outside of the for loop as needed. Additional, please provide a brief rationale and/or justification for your design after the code."
   ]
  },
  {
   "cell_type": "code",
   "execution_count": 1,
   "metadata": {},
   "outputs": [
    {
     "name": "stdout",
     "output_type": "stream",
     "text": [
      "250\n"
     ]
    }
   ],
   "source": [
    "import csv\n",
    "\n",
    "def csvRows(filename):\n",
    "    with open(filename, 'r') as fi:\n",
    "        reader = csv.DictReader(fi)\n",
    "        for row in reader:\n",
    "            yield row\n",
    "\n",
    "hiredCabs = 0\n",
    "maxHiredCabs = 0\n",
    "for row in csvRows('taxi_events.csv'):\n",
    "    if row['event']=='pickup':\n",
    "        hiredCabs += 1\n",
    "        if maxHiredCabs<hiredCabs:\n",
    "            maxHiredCabs = hiredCabs\n",
    "    else:\n",
    "        hiredCabs -= 1\n",
    "    \n",
    "print(maxHiredCabs)"
   ]
  },
  {
   "cell_type": "markdown",
   "metadata": {},
   "source": [
    "#### RATIONALE AND JUSTIFICATION\n",
    "\n",
    "*Please explain your solution here*\n",
    "\n",
    "The table provides a history of pickup, or drop off events. The input data only logs pickup and dropoff events.\n",
    "\n",
    "1. Initialize hiredCabs counter and the maxHiredCabs recorded.\n",
    "2. Read in a new event row (next entry from stream)\n",
    "3. If the event is a pickup, add one to the hiredCabs counter. Following the pickup, if the number of hiredCabs is greater than the maximum hired cabs; set a new maximum equal to the current number of hired cabs. \n",
    "4. Else the next event from the stream is a dropoff which results in the number of hiredCabs decreasing by 1.\n",
    "5. At the end of the stream, print the maximum number of hired cabs.\n",
    "\n",
    "\n"
   ]
  },
  {
   "cell_type": "markdown",
   "metadata": {},
   "source": [
    "## Task 2 (5 points)\n",
    "\n",
    "The objective of this task is identical to Task 1's but you are asked to use the full **taxi_trips.csv** data set instead of the events. The main difference (and challenge) is that both pick-up and drop-off event for each trip is now presented in a single record, thus, the drop-off events are not sorted by their timestamps. You are again asked to do this in a streaming fashion that needs to minimize the amount of memory usage. Please modify the code below accordingly, and also with a brief explaination of the solution.\n",
    "\n",
    "Below is the description of the **taxi_trips.csv** file, which is sorted only by the pick-up time:\n",
    "\n",
    "|Column name|Description|\n",
    "|--|--|\n",
    "|trip_duration |The duration of the trip in seconds. This field is for your convenience since it can be derived also from the pick-up and drop-off times. |\n",
    "|pickup_time |The timestamp of the pick-up of the trip. All trip records are sorted increasingly by their pick-up times. |\n",
    "|dropoff_time |The timestamp of the drop-off event. |\n",
    "|vehicle_id |The unique ID of the taxi vehicle involved in this trip record. |\n",
    "\n"
   ]
  },
  {
   "cell_type": "code",
   "execution_count": 2,
   "metadata": {},
   "outputs": [
    {
     "name": "stdout",
     "output_type": "stream",
     "text": [
      "250\n"
     ]
    }
   ],
   "source": [
    "import csv\n",
    "import numpy as np\n",
    "import pandas as pd\n",
    "import datetime \n",
    "\n",
    "def csvRows(filename):\n",
    "    with open(filename, 'r') as fi:\n",
    "        reader = csv.DictReader(fi)\n",
    "        for row in reader:\n",
    "            yield row\n",
    "            \n",
    "# Initialize the maximum number of hired cabs counter\n",
    "maxHiredCabs = 0\n",
    "\n",
    "# Initialize a series keeping a log of all hired cabs end times.\n",
    "## When the trip finishes, the end time will drop out of this series\n",
    "tripEndTimes = []\n",
    "tripEndTimes = pd.Series(tripEndTimes)\n",
    "\n",
    "\n",
    "for row in csvRows('taxi_trips.csv'):\n",
    "    \n",
    "    # Append the current trips end time into the end time log series\n",
    "    currentTripEnd = pd.Series(row['dropoff_time'])\n",
    "    tripEndTimes = tripEndTimes.append(currentTripEnd, ignore_index=True)\n",
    "\n",
    "    # Read-in current trip start time\n",
    "    currentTripStart = pd.to_datetime(row['pickup_time'])\n",
    "\n",
    "    # Update log of all hired cabs end times \n",
    "    ## Trips which finished before this current started drop out\n",
    "    tripEndTimes = tripEndTimes[pd.to_datetime(tripEndTimes) > (currentTripStart)]\n",
    "\n",
    "    # Current number of hired cabs is the length of the tripEndTimes Series (log)\n",
    "    numHiredCabs = len(tripEndTimes)\n",
    "    \n",
    "    # if the current number of hired cabs is greater than the maximum number of prev. hired cabs\n",
    "    ## Set a new maximum\n",
    "    if numHiredCabs > maxHiredCabs:\n",
    "        maxHiredCabs = numHiredCabs\n",
    "\n",
    "# Return the maximum number of hired cabs        \n",
    "print(maxHiredCabs)"
   ]
  },
  {
   "cell_type": "markdown",
   "metadata": {},
   "source": [
    "#### RATIONALE AND JUSTIFICATION\n",
    "\n",
    "*Please explain your solution here*\n",
    "\n",
    "Reference to the comments in the above code:\n",
    "1. Initialize the maximum number of hired cabs counter\n",
    "2. Initialize a series keeping a log of all hired cabs end times. When a trip finishes, the end time will drop out of this series (log).\n",
    "3. Read in a new trip row (next entry from stream)\n",
    "4. Append this current trips end time into the end time log series\n",
    "5. Update the log of all hired cabs end times. Trips which finished before this current trips start time will drop out of the end time log series.\n",
    "6. The current number of hired cabs (active trips) is the length of the tripEndTimes Series (log)\n",
    "7. If the current number of hired cabs is greater than the maximum number of prev. hired cabs, then set a new maximum\n",
    "8. Return (print) the maximum number of hired cabs at the end.\n",
    "\n",
    "\n"
   ]
  }
 ],
 "metadata": {
  "kernelspec": {
   "display_name": "Python 3",
   "language": "python",
   "name": "python3"
  },
  "language_info": {
   "codemirror_mode": {
    "name": "ipython",
    "version": 3
   },
   "file_extension": ".py",
   "mimetype": "text/x-python",
   "name": "python",
   "nbconvert_exporter": "python",
   "pygments_lexer": "ipython3",
   "version": "3.6.4"
  }
 },
 "nbformat": 4,
 "nbformat_minor": 1
}
